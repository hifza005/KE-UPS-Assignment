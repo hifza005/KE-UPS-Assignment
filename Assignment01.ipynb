{
  "nbformat": 4,
  "nbformat_minor": 0,
  "metadata": {
    "colab": {
      "provenance": []
    },
    "kernelspec": {
      "name": "python3",
      "display_name": "Python 3"
    },
    "language_info": {
      "name": "python"
    }
  },
  "cells": [
    {
      "cell_type": "code",
      "execution_count": null,
      "metadata": {
        "id": "9J6DDIhkgnBE"
      },
      "outputs": [],
      "source": []
    },
    {
      "cell_type": "markdown",
      "source": [
        "## ***Code***\n",
        "*First Condition*\n"
      ],
      "metadata": {
        "id": "Qwqc6Mrfg2wJ"
      }
    },
    {
      "cell_type": "code",
      "source": [
        "Electric = True  # Initially, electricity is on.\n",
        "Ups = not Electric  # UPS is off when electricity is on.\n",
        "\n",
        "if Electric and not Ups:\n",
        "    print(\"Electricity is On, UPS is Off\")\n",
        "elif not Electric and Ups:\n",
        "    print(\"UPS is On, Electricity is Off\")"
      ],
      "metadata": {
        "colab": {
          "base_uri": "https://localhost:8080/"
        },
        "id": "rD_dIfqlhG5F",
        "outputId": "32eb9cda-6d9f-46ab-f060-e065a88aa8a8"
      },
      "execution_count": null,
      "outputs": [
        {
          "output_type": "stream",
          "name": "stdout",
          "text": [
            "Electricity is On, UPS is Off\n"
          ]
        }
      ]
    },
    {
      "cell_type": "markdown",
      "source": [
        "# ***Code***\n",
        "*Second Condition*\n"
      ],
      "metadata": {
        "id": "WlxN0KP7hXF8"
      }
    },
    {
      "cell_type": "code",
      "source": [
        "Electric = False\n",
        "Ups = not Electric == True\n",
        "\n",
        "if Electric and not Ups:\n",
        "    print(\"Electricity is On, UPS is Off\")\n",
        "elif not Electric and Ups:\n",
        "    print(\"UPS is On, Electricity is Off\")"
      ],
      "metadata": {
        "colab": {
          "base_uri": "https://localhost:8080/"
        },
        "id": "28NdDwUrh8x_",
        "outputId": "33e7eb48-d872-4a0b-a96d-617d8f3d4bc7"
      },
      "execution_count": null,
      "outputs": [
        {
          "output_type": "stream",
          "name": "stdout",
          "text": [
            "UPS is On, Electricity is Off\n"
          ]
        }
      ]
    }
  ]
}